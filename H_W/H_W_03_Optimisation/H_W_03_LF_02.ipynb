{
 "cells": [
  {
   "cell_type": "markdown",
   "id": "ae94522e",
   "metadata": {},
   "source": [
    "### Задание\n",
    "Реализовать самостоятельно логистическую регрессию\n",
    "\n",
    "Обучить ее методом градиентного спуска\n",
    "\n",
    "Методом nesterov momentum\n",
    "\n",
    "Методом rmsprop\n",
    "\n",
    "Дополнительное задание *\n",
    "\n",
    "В качестве dataset’а взять Iris, оставив 2 класса:\n",
    "\n",
    "Iris Versicolor\n",
    "\n",
    "Iris Virginica"
   ]
  },
  {
   "cell_type": "code",
   "execution_count": 1,
   "id": "3119f9b2",
   "metadata": {},
   "outputs": [],
   "source": [
    "import pandas as pd\n",
    "from sklearn.model_selection import train_test_split\n",
    "from sklearn.linear_model import LogisticRegression\n",
    "from sklearn import metrics\n",
    "import seaborn as sn\n",
    "import matplotlib.pyplot as plt\n",
    "import numpy as np"
   ]
  },
  {
   "cell_type": "code",
   "execution_count": 2,
   "id": "711a05b6",
   "metadata": {},
   "outputs": [],
   "source": [
    "from sklearn.pipeline import make_pipeline # используем пайплайны для удобства\n",
    "from sklearn.preprocessing import StandardScaler\n",
    "from sklearn.model_selection import train_test_split"
   ]
  },
  {
   "cell_type": "code",
   "execution_count": 3,
   "id": "97c775ac",
   "metadata": {},
   "outputs": [
    {
     "data": {
      "text/html": [
       "<div>\n",
       "<style scoped>\n",
       "    .dataframe tbody tr th:only-of-type {\n",
       "        vertical-align: middle;\n",
       "    }\n",
       "\n",
       "    .dataframe tbody tr th {\n",
       "        vertical-align: top;\n",
       "    }\n",
       "\n",
       "    .dataframe thead th {\n",
       "        text-align: right;\n",
       "    }\n",
       "</style>\n",
       "<table border=\"1\" class=\"dataframe\">\n",
       "  <thead>\n",
       "    <tr style=\"text-align: right;\">\n",
       "      <th></th>\n",
       "      <th>s-</th>\n",
       "      <th>s-w</th>\n",
       "      <th>p-l</th>\n",
       "      <th>p-w</th>\n",
       "      <th>name</th>\n",
       "    </tr>\n",
       "  </thead>\n",
       "  <tbody>\n",
       "    <tr>\n",
       "      <th>0</th>\n",
       "      <td>5.1</td>\n",
       "      <td>3.5</td>\n",
       "      <td>1.4</td>\n",
       "      <td>0.2</td>\n",
       "      <td>Iris-setosa</td>\n",
       "    </tr>\n",
       "    <tr>\n",
       "      <th>1</th>\n",
       "      <td>4.9</td>\n",
       "      <td>3.0</td>\n",
       "      <td>1.4</td>\n",
       "      <td>0.2</td>\n",
       "      <td>Iris-setosa</td>\n",
       "    </tr>\n",
       "    <tr>\n",
       "      <th>2</th>\n",
       "      <td>4.7</td>\n",
       "      <td>3.2</td>\n",
       "      <td>1.3</td>\n",
       "      <td>0.2</td>\n",
       "      <td>Iris-setosa</td>\n",
       "    </tr>\n",
       "    <tr>\n",
       "      <th>3</th>\n",
       "      <td>4.6</td>\n",
       "      <td>3.1</td>\n",
       "      <td>1.5</td>\n",
       "      <td>0.2</td>\n",
       "      <td>Iris-setosa</td>\n",
       "    </tr>\n",
       "    <tr>\n",
       "      <th>4</th>\n",
       "      <td>5.0</td>\n",
       "      <td>3.6</td>\n",
       "      <td>1.4</td>\n",
       "      <td>0.2</td>\n",
       "      <td>Iris-setosa</td>\n",
       "    </tr>\n",
       "    <tr>\n",
       "      <th>...</th>\n",
       "      <td>...</td>\n",
       "      <td>...</td>\n",
       "      <td>...</td>\n",
       "      <td>...</td>\n",
       "      <td>...</td>\n",
       "    </tr>\n",
       "    <tr>\n",
       "      <th>145</th>\n",
       "      <td>6.7</td>\n",
       "      <td>3.0</td>\n",
       "      <td>5.2</td>\n",
       "      <td>2.3</td>\n",
       "      <td>Iris-virginica</td>\n",
       "    </tr>\n",
       "    <tr>\n",
       "      <th>146</th>\n",
       "      <td>6.3</td>\n",
       "      <td>2.5</td>\n",
       "      <td>5.0</td>\n",
       "      <td>1.9</td>\n",
       "      <td>Iris-virginica</td>\n",
       "    </tr>\n",
       "    <tr>\n",
       "      <th>147</th>\n",
       "      <td>6.5</td>\n",
       "      <td>3.0</td>\n",
       "      <td>5.2</td>\n",
       "      <td>2.0</td>\n",
       "      <td>Iris-virginica</td>\n",
       "    </tr>\n",
       "    <tr>\n",
       "      <th>148</th>\n",
       "      <td>6.2</td>\n",
       "      <td>3.4</td>\n",
       "      <td>5.4</td>\n",
       "      <td>2.3</td>\n",
       "      <td>Iris-virginica</td>\n",
       "    </tr>\n",
       "    <tr>\n",
       "      <th>149</th>\n",
       "      <td>5.9</td>\n",
       "      <td>3.0</td>\n",
       "      <td>5.1</td>\n",
       "      <td>1.8</td>\n",
       "      <td>Iris-virginica</td>\n",
       "    </tr>\n",
       "  </tbody>\n",
       "</table>\n",
       "<p>150 rows × 5 columns</p>\n",
       "</div>"
      ],
      "text/plain": [
       "      s-  s-w  p-l  p-w            name\n",
       "0    5.1  3.5  1.4  0.2     Iris-setosa\n",
       "1    4.9  3.0  1.4  0.2     Iris-setosa\n",
       "2    4.7  3.2  1.3  0.2     Iris-setosa\n",
       "3    4.6  3.1  1.5  0.2     Iris-setosa\n",
       "4    5.0  3.6  1.4  0.2     Iris-setosa\n",
       "..   ...  ...  ...  ...             ...\n",
       "145  6.7  3.0  5.2  2.3  Iris-virginica\n",
       "146  6.3  2.5  5.0  1.9  Iris-virginica\n",
       "147  6.5  3.0  5.2  2.0  Iris-virginica\n",
       "148  6.2  3.4  5.4  2.3  Iris-virginica\n",
       "149  5.9  3.0  5.1  1.8  Iris-virginica\n",
       "\n",
       "[150 rows x 5 columns]"
      ]
     },
     "execution_count": 3,
     "metadata": {},
     "output_type": "execute_result"
    }
   ],
   "source": [
    "df = pd.read_csv('iris.data', names=['s-', 's-w', 'p-l', 'p-w', 'name'])\n",
    "df"
   ]
  },
  {
   "cell_type": "code",
   "execution_count": 4,
   "id": "7c25b355",
   "metadata": {},
   "outputs": [],
   "source": [
    "df = df[df.name != 'Iris-setosa']    #  Удаляем лишний элемент"
   ]
  },
  {
   "cell_type": "code",
   "execution_count": 5,
   "id": "4c327fe6",
   "metadata": {},
   "outputs": [
    {
     "data": {
      "text/html": [
       "<div>\n",
       "<style scoped>\n",
       "    .dataframe tbody tr th:only-of-type {\n",
       "        vertical-align: middle;\n",
       "    }\n",
       "\n",
       "    .dataframe tbody tr th {\n",
       "        vertical-align: top;\n",
       "    }\n",
       "\n",
       "    .dataframe thead th {\n",
       "        text-align: right;\n",
       "    }\n",
       "</style>\n",
       "<table border=\"1\" class=\"dataframe\">\n",
       "  <thead>\n",
       "    <tr style=\"text-align: right;\">\n",
       "      <th></th>\n",
       "      <th>s-</th>\n",
       "      <th>s-w</th>\n",
       "      <th>p-l</th>\n",
       "      <th>p-w</th>\n",
       "      <th>name</th>\n",
       "    </tr>\n",
       "  </thead>\n",
       "  <tbody>\n",
       "    <tr>\n",
       "      <th>50</th>\n",
       "      <td>7.0</td>\n",
       "      <td>3.2</td>\n",
       "      <td>4.7</td>\n",
       "      <td>1.4</td>\n",
       "      <td>Iris-versicolor</td>\n",
       "    </tr>\n",
       "    <tr>\n",
       "      <th>51</th>\n",
       "      <td>6.4</td>\n",
       "      <td>3.2</td>\n",
       "      <td>4.5</td>\n",
       "      <td>1.5</td>\n",
       "      <td>Iris-versicolor</td>\n",
       "    </tr>\n",
       "    <tr>\n",
       "      <th>52</th>\n",
       "      <td>6.9</td>\n",
       "      <td>3.1</td>\n",
       "      <td>4.9</td>\n",
       "      <td>1.5</td>\n",
       "      <td>Iris-versicolor</td>\n",
       "    </tr>\n",
       "    <tr>\n",
       "      <th>53</th>\n",
       "      <td>5.5</td>\n",
       "      <td>2.3</td>\n",
       "      <td>4.0</td>\n",
       "      <td>1.3</td>\n",
       "      <td>Iris-versicolor</td>\n",
       "    </tr>\n",
       "    <tr>\n",
       "      <th>54</th>\n",
       "      <td>6.5</td>\n",
       "      <td>2.8</td>\n",
       "      <td>4.6</td>\n",
       "      <td>1.5</td>\n",
       "      <td>Iris-versicolor</td>\n",
       "    </tr>\n",
       "    <tr>\n",
       "      <th>...</th>\n",
       "      <td>...</td>\n",
       "      <td>...</td>\n",
       "      <td>...</td>\n",
       "      <td>...</td>\n",
       "      <td>...</td>\n",
       "    </tr>\n",
       "    <tr>\n",
       "      <th>145</th>\n",
       "      <td>6.7</td>\n",
       "      <td>3.0</td>\n",
       "      <td>5.2</td>\n",
       "      <td>2.3</td>\n",
       "      <td>Iris-virginica</td>\n",
       "    </tr>\n",
       "    <tr>\n",
       "      <th>146</th>\n",
       "      <td>6.3</td>\n",
       "      <td>2.5</td>\n",
       "      <td>5.0</td>\n",
       "      <td>1.9</td>\n",
       "      <td>Iris-virginica</td>\n",
       "    </tr>\n",
       "    <tr>\n",
       "      <th>147</th>\n",
       "      <td>6.5</td>\n",
       "      <td>3.0</td>\n",
       "      <td>5.2</td>\n",
       "      <td>2.0</td>\n",
       "      <td>Iris-virginica</td>\n",
       "    </tr>\n",
       "    <tr>\n",
       "      <th>148</th>\n",
       "      <td>6.2</td>\n",
       "      <td>3.4</td>\n",
       "      <td>5.4</td>\n",
       "      <td>2.3</td>\n",
       "      <td>Iris-virginica</td>\n",
       "    </tr>\n",
       "    <tr>\n",
       "      <th>149</th>\n",
       "      <td>5.9</td>\n",
       "      <td>3.0</td>\n",
       "      <td>5.1</td>\n",
       "      <td>1.8</td>\n",
       "      <td>Iris-virginica</td>\n",
       "    </tr>\n",
       "  </tbody>\n",
       "</table>\n",
       "<p>100 rows × 5 columns</p>\n",
       "</div>"
      ],
      "text/plain": [
       "      s-  s-w  p-l  p-w             name\n",
       "50   7.0  3.2  4.7  1.4  Iris-versicolor\n",
       "51   6.4  3.2  4.5  1.5  Iris-versicolor\n",
       "52   6.9  3.1  4.9  1.5  Iris-versicolor\n",
       "53   5.5  2.3  4.0  1.3  Iris-versicolor\n",
       "54   6.5  2.8  4.6  1.5  Iris-versicolor\n",
       "..   ...  ...  ...  ...              ...\n",
       "145  6.7  3.0  5.2  2.3   Iris-virginica\n",
       "146  6.3  2.5  5.0  1.9   Iris-virginica\n",
       "147  6.5  3.0  5.2  2.0   Iris-virginica\n",
       "148  6.2  3.4  5.4  2.3   Iris-virginica\n",
       "149  5.9  3.0  5.1  1.8   Iris-virginica\n",
       "\n",
       "[100 rows x 5 columns]"
      ]
     },
     "execution_count": 5,
     "metadata": {},
     "output_type": "execute_result"
    }
   ],
   "source": [
    "df  "
   ]
  },
  {
   "cell_type": "code",
   "execution_count": 6,
   "id": "29c3eb1a",
   "metadata": {},
   "outputs": [],
   "source": [
    "X = df[['p-l', 'p-w']]\n",
    "Y = df['name'] "
   ]
  },
  {
   "cell_type": "code",
   "execution_count": 7,
   "id": "5dbd35eb",
   "metadata": {},
   "outputs": [
    {
     "data": {
      "text/plain": [
       "50     Iris-versicolor\n",
       "51     Iris-versicolor\n",
       "52     Iris-versicolor\n",
       "53     Iris-versicolor\n",
       "54     Iris-versicolor\n",
       "            ...       \n",
       "145     Iris-virginica\n",
       "146     Iris-virginica\n",
       "147     Iris-virginica\n",
       "148     Iris-virginica\n",
       "149     Iris-virginica\n",
       "Name: name, Length: 100, dtype: object"
      ]
     },
     "execution_count": 7,
     "metadata": {},
     "output_type": "execute_result"
    }
   ],
   "source": [
    "Y  #  Остались только актуальные виды"
   ]
  },
  {
   "cell_type": "code",
   "execution_count": 8,
   "id": "0a09e02b",
   "metadata": {},
   "outputs": [],
   "source": [
    "from sklearn.preprocessing import LabelEncoder\n",
    "le = LabelEncoder()"
   ]
  },
  {
   "cell_type": "code",
   "execution_count": 9,
   "id": "2d6a7cdb",
   "metadata": {},
   "outputs": [
    {
     "data": {
      "text/plain": [
       "LabelEncoder()"
      ]
     },
     "execution_count": 9,
     "metadata": {},
     "output_type": "execute_result"
    }
   ],
   "source": [
    "le.fit(Y)"
   ]
  },
  {
   "cell_type": "code",
   "execution_count": 10,
   "id": "ebc659a8",
   "metadata": {
    "scrolled": true
   },
   "outputs": [
    {
     "data": {
      "text/plain": [
       "0    0\n",
       "1    0\n",
       "2    0\n",
       "3    0\n",
       "4    0\n",
       "dtype: int32"
      ]
     },
     "execution_count": 10,
     "metadata": {},
     "output_type": "execute_result"
    }
   ],
   "source": [
    "y = pd.Series(le.transform(Y))     # Перевожу названия в формат кода\n",
    "y.head()"
   ]
  },
  {
   "cell_type": "markdown",
   "id": "56400921",
   "metadata": {},
   "source": [
    "######  Реализуем метод логистической регрессии"
   ]
  },
  {
   "cell_type": "code",
   "execution_count": 11,
   "id": "be8d0e7e",
   "metadata": {},
   "outputs": [],
   "source": [
    "X_train,X_test,y_train,y_test = train_test_split(X,y,test_size=0.25,random_state=0)"
   ]
  },
  {
   "cell_type": "code",
   "execution_count": 12,
   "id": "23cafecb",
   "metadata": {},
   "outputs": [],
   "source": [
    "model = make_pipeline(StandardScaler(), LogisticRegression(max_iter=100000))"
   ]
  },
  {
   "cell_type": "code",
   "execution_count": 13,
   "id": "6e1c4c7f",
   "metadata": {},
   "outputs": [],
   "source": [
    "model.fit(X_train, y_train)\n",
    "predictions = model.predict(X_test)"
   ]
  },
  {
   "cell_type": "code",
   "execution_count": 14,
   "id": "7f8ae3ca",
   "metadata": {},
   "outputs": [
    {
     "data": {
      "text/plain": [
       "array([0, 1, 0, 1, 1, 1, 0, 1, 1, 1, 1, 1, 1, 0, 0, 0, 0, 0, 1, 0, 0, 1,\n",
       "       0, 1, 0])"
      ]
     },
     "execution_count": 14,
     "metadata": {},
     "output_type": "execute_result"
    }
   ],
   "source": [
    "predictions[:100]"
   ]
  },
  {
   "cell_type": "code",
   "execution_count": 15,
   "id": "1ebb67a9",
   "metadata": {},
   "outputs": [
    {
     "data": {
      "text/plain": [
       "array([[0.76501692, 0.23498308],\n",
       "       [0.00495467, 0.99504533],\n",
       "       [0.61787522, 0.38212478],\n",
       "       [0.00142185, 0.99857815],\n",
       "       [0.02456816, 0.97543184],\n",
       "       [0.00356212, 0.99643788],\n",
       "       [0.81932127, 0.18067873],\n",
       "       [0.30036009, 0.69963991],\n",
       "       [0.00714633, 0.99285367],\n",
       "       [0.02126494, 0.97873506],\n",
       "       [0.06597591, 0.93402409],\n",
       "       [0.14145797, 0.85854203],\n",
       "       [0.01840899, 0.98159101],\n",
       "       [0.80817398, 0.19182602],\n",
       "       [0.99890468, 0.00109532],\n",
       "       [0.99384642, 0.00615358],\n",
       "       [0.61787522, 0.38212478],\n",
       "       [0.94840936, 0.05159064],\n",
       "       [0.3829348 , 0.6170652 ],\n",
       "       [0.89454527, 0.10545473],\n",
       "       [0.99890468, 0.00109532],\n",
       "       [0.02369453, 0.97630547],\n",
       "       [0.97551389, 0.02448611],\n",
       "       [0.15063034, 0.84936966],\n",
       "       [0.97369377, 0.02630623]])"
      ]
     },
     "execution_count": 15,
     "metadata": {},
     "output_type": "execute_result"
    }
   ],
   "source": [
    "model.predict_proba(X_test)"
   ]
  },
  {
   "cell_type": "code",
   "execution_count": 16,
   "id": "cbcfd91f",
   "metadata": {},
   "outputs": [
    {
     "data": {
      "text/plain": [
       "0.9466666666666667"
      ]
     },
     "execution_count": 16,
     "metadata": {},
     "output_type": "execute_result"
    }
   ],
   "source": [
    "model.score(X_train, y_train) "
   ]
  },
  {
   "cell_type": "code",
   "execution_count": 17,
   "id": "885f2e71",
   "metadata": {},
   "outputs": [
    {
     "data": {
      "text/plain": [
       "0.96"
      ]
     },
     "execution_count": 17,
     "metadata": {},
     "output_type": "execute_result"
    }
   ],
   "source": [
    "model.score(X_test,y_test)"
   ]
  },
  {
   "cell_type": "markdown",
   "id": "97ebd73c",
   "metadata": {},
   "source": [
    "######  обучаем методом градиентного спуска"
   ]
  },
  {
   "cell_type": "code",
   "execution_count": 18,
   "id": "bef9a1b2",
   "metadata": {},
   "outputs": [
    {
     "data": {
      "text/plain": [
       "50     1.4\n",
       "51     1.5\n",
       "52     1.5\n",
       "53     1.3\n",
       "54     1.5\n",
       "      ... \n",
       "145    2.3\n",
       "146    1.9\n",
       "147    2.0\n",
       "148    2.3\n",
       "149    1.8\n",
       "Name: p-w, Length: 100, dtype: float64"
      ]
     },
     "execution_count": 18,
     "metadata": {},
     "output_type": "execute_result"
    }
   ],
   "source": [
    "X['p-w']"
   ]
  },
  {
   "cell_type": "code",
   "execution_count": 19,
   "id": "d09b80a8",
   "metadata": {},
   "outputs": [
    {
     "data": {
      "text/plain": [
       "0     0\n",
       "1     0\n",
       "2     0\n",
       "3     0\n",
       "4     0\n",
       "     ..\n",
       "95    1\n",
       "96    1\n",
       "97    1\n",
       "98    1\n",
       "99    1\n",
       "Length: 100, dtype: int32"
      ]
     },
     "execution_count": 19,
     "metadata": {},
     "output_type": "execute_result"
    }
   ],
   "source": [
    "y"
   ]
  },
  {
   "cell_type": "code",
   "execution_count": 20,
   "id": "2b8b0a9c",
   "metadata": {},
   "outputs": [
    {
     "data": {
      "text/html": [
       "<div>\n",
       "<style scoped>\n",
       "    .dataframe tbody tr th:only-of-type {\n",
       "        vertical-align: middle;\n",
       "    }\n",
       "\n",
       "    .dataframe tbody tr th {\n",
       "        vertical-align: top;\n",
       "    }\n",
       "\n",
       "    .dataframe thead th {\n",
       "        text-align: right;\n",
       "    }\n",
       "</style>\n",
       "<table border=\"1\" class=\"dataframe\">\n",
       "  <thead>\n",
       "    <tr style=\"text-align: right;\">\n",
       "      <th></th>\n",
       "      <th>p-l</th>\n",
       "      <th>p-w</th>\n",
       "    </tr>\n",
       "  </thead>\n",
       "  <tbody>\n",
       "    <tr>\n",
       "      <th>50</th>\n",
       "      <td>4.7</td>\n",
       "      <td>1.4</td>\n",
       "    </tr>\n",
       "    <tr>\n",
       "      <th>51</th>\n",
       "      <td>4.5</td>\n",
       "      <td>1.5</td>\n",
       "    </tr>\n",
       "    <tr>\n",
       "      <th>52</th>\n",
       "      <td>4.9</td>\n",
       "      <td>1.5</td>\n",
       "    </tr>\n",
       "    <tr>\n",
       "      <th>53</th>\n",
       "      <td>4.0</td>\n",
       "      <td>1.3</td>\n",
       "    </tr>\n",
       "    <tr>\n",
       "      <th>54</th>\n",
       "      <td>4.6</td>\n",
       "      <td>1.5</td>\n",
       "    </tr>\n",
       "    <tr>\n",
       "      <th>...</th>\n",
       "      <td>...</td>\n",
       "      <td>...</td>\n",
       "    </tr>\n",
       "    <tr>\n",
       "      <th>145</th>\n",
       "      <td>5.2</td>\n",
       "      <td>2.3</td>\n",
       "    </tr>\n",
       "    <tr>\n",
       "      <th>146</th>\n",
       "      <td>5.0</td>\n",
       "      <td>1.9</td>\n",
       "    </tr>\n",
       "    <tr>\n",
       "      <th>147</th>\n",
       "      <td>5.2</td>\n",
       "      <td>2.0</td>\n",
       "    </tr>\n",
       "    <tr>\n",
       "      <th>148</th>\n",
       "      <td>5.4</td>\n",
       "      <td>2.3</td>\n",
       "    </tr>\n",
       "    <tr>\n",
       "      <th>149</th>\n",
       "      <td>5.1</td>\n",
       "      <td>1.8</td>\n",
       "    </tr>\n",
       "  </tbody>\n",
       "</table>\n",
       "<p>100 rows × 2 columns</p>\n",
       "</div>"
      ],
      "text/plain": [
       "     p-l  p-w\n",
       "50   4.7  1.4\n",
       "51   4.5  1.5\n",
       "52   4.9  1.5\n",
       "53   4.0  1.3\n",
       "54   4.6  1.5\n",
       "..   ...  ...\n",
       "145  5.2  2.3\n",
       "146  5.0  1.9\n",
       "147  5.2  2.0\n",
       "148  5.4  2.3\n",
       "149  5.1  1.8\n",
       "\n",
       "[100 rows x 2 columns]"
      ]
     },
     "execution_count": 20,
     "metadata": {},
     "output_type": "execute_result"
    }
   ],
   "source": [
    "X"
   ]
  },
  {
   "cell_type": "code",
   "execution_count": 21,
   "id": "89f2675a",
   "metadata": {},
   "outputs": [
    {
     "data": {
      "text/plain": [
       "0     0\n",
       "1     0\n",
       "2     0\n",
       "3     0\n",
       "4     0\n",
       "     ..\n",
       "95    1\n",
       "96    1\n",
       "97    1\n",
       "98    1\n",
       "99    1\n",
       "Length: 100, dtype: int32"
      ]
     },
     "execution_count": 21,
     "metadata": {},
     "output_type": "execute_result"
    }
   ],
   "source": [
    "y"
   ]
  },
  {
   "cell_type": "code",
   "execution_count": 22,
   "id": "a843f456",
   "metadata": {},
   "outputs": [],
   "source": [
    "X = pd.DataFrame(X).to_numpy()"
   ]
  },
  {
   "cell_type": "code",
   "execution_count": 23,
   "id": "0f0f718e",
   "metadata": {},
   "outputs": [],
   "source": [
    "model = LogisticRegression()"
   ]
  },
  {
   "cell_type": "code",
   "execution_count": 24,
   "id": "15afa6d5",
   "metadata": {},
   "outputs": [
    {
     "data": {
      "text/plain": [
       "LogisticRegression()"
      ]
     },
     "execution_count": 24,
     "metadata": {},
     "output_type": "execute_result"
    }
   ],
   "source": [
    "model.fit( X, y )"
   ]
  },
  {
   "cell_type": "code",
   "execution_count": 25,
   "id": "f1459149",
   "metadata": {
    "scrolled": true
   },
   "outputs": [
    {
     "name": "stderr",
     "output_type": "stream",
     "text": [
      "<ipython-input-25-224059c5f549>:11: MatplotlibDeprecationWarning: shading='flat' when X and Y have the same dimensions as C is deprecated since 3.3.  Either specify the corners of the quadrilaterals with X and Y, or pass shading='auto', 'nearest' or 'gouraud', or set rcParams['pcolor.shading'].  This will become an error two minor releases later.\n",
      "  plt.pcolormesh(xx, yy, Z, cmap=plt.cm.Paired)\n"
     ]
    },
    {
     "data": {
      "image/png": "[encoded data removed]",
      "text/plain": [
       "<Figure size 288x216 with 1 Axes>"
      ]
     },
     "metadata": {},
     "output_type": "display_data"
    }
   ],
   "source": [
    "x_min, x_max = X[:, 0].min() - .5, X[:, 0].max() + .5\n",
    "y_min, y_max = X[:, 1].min() - .5, X[:, 1].max() + .5\n",
    "\n",
    "h = .02  # step size in the mesh\n",
    "xx, yy = np.meshgrid(np.arange(x_min, x_max, h), np.arange(y_min, y_max, h))\n",
    "Z = model.predict(np.c_[xx.ravel(), yy.ravel()])\n",
    "\n",
    "# Put the result into a color plot\n",
    "Z = Z.reshape(xx.shape)\n",
    "plt.figure(1, figsize=(4, 3))\n",
    "plt.pcolormesh(xx, yy, Z, cmap=plt.cm.Paired)\n",
    "\n",
    "# Plot also the training points\n",
    "plt.scatter(X[:, 0], X[:, 1], c='g', edgecolors='k', cmap=plt.cm.Paired)\n",
    "plt.xlabel('Sepal length')\n",
    "plt.ylabel('Sepal width')\n",
    "\n",
    "plt.xlim(xx.min(), xx.max())\n",
    "plt.ylim(yy.min(), yy.max())\n",
    "plt.xticks(())\n",
    "plt.yticks(())\n",
    "\n",
    "plt.show()"
   ]
  },
  {
   "cell_type": "markdown",
   "id": "39e24c8c",
   "metadata": {},
   "source": [
    "### Градиентный спуск"
   ]
  },
  {
   "cell_type": "code",
   "execution_count": 26,
   "id": "bd8e319e",
   "metadata": {},
   "outputs": [
    {
     "data": {
      "image/png": "[encoded data removed]",
      "text/plain": [
       "<Figure size 432x288 with 1 Axes>"
      ]
     },
     "metadata": {
      "needs_background": "light"
     },
     "output_type": "display_data"
    }
   ],
   "source": [
    "f = lambda x: x**3-2*x**2+2\n",
    "plt.plot(X,f(X))\n",
    "plt.xlim([0,3])\n",
    "plt.ylim([0,6])\n",
    "plt.show()"
   ]
  },
  {
   "cell_type": "code",
   "execution_count": 27,
   "id": "0a1d32a6",
   "metadata": {},
   "outputs": [
    {
     "data": {
      "image/png": "[encoded data removed]",
      "text/plain": [
       "<Figure size 432x288 with 1 Axes>"
      ]
     },
     "metadata": {
      "needs_background": "light"
     },
     "output_type": "display_data"
    }
   ],
   "source": [
    "f_prime = lambda x: 3*x**2-4*x\n",
    "#x = np.linspace(-1,2.5,1000) \n",
    "plt.plot(X,f_prime(X))\n",
    "plt.xlim([0,3])\n",
    "plt.ylim([-2,10])\n",
    "plt.show()"
   ]
  },
  {
   "cell_type": "code",
   "execution_count": null,
   "id": "62dab36b",
   "metadata": {},
   "outputs": [],
   "source": []
  },
  {
   "cell_type": "code",
   "execution_count": 28,
   "id": "78c9cac5",
   "metadata": {},
   "outputs": [],
   "source": [
    "lr = 0.1\n",
    "points = [2]\n",
    "n_epochs = 15"
   ]
  },
  {
   "cell_type": "code",
   "execution_count": 29,
   "id": "a48ef92d",
   "metadata": {},
   "outputs": [],
   "source": [
    "for _ in range(n_epochs):\n",
    "    cur_point = points[-1]\n",
    "    grad = f_prime(cur_point)\n",
    "    new_point = cur_point - lr * grad\n",
    "    points.append(new_point)"
   ]
  },
  {
   "cell_type": "code",
   "execution_count": 30,
   "id": "b12364b0",
   "metadata": {},
   "outputs": [],
   "source": [
    "y_points = [f(p) for p in points]"
   ]
  },
  {
   "cell_type": "code",
   "execution_count": 31,
   "id": "52d3bb11",
   "metadata": {},
   "outputs": [
    {
     "data": {
      "image/png": "[encoded data removed]",
      "text/plain": [
       "<Figure size 432x288 with 1 Axes>"
      ]
     },
     "metadata": {
      "needs_background": "light"
     },
     "output_type": "display_data"
    }
   ],
   "source": [
    "plt.plot(X,f(X))\n",
    "plt.plot(points, y_points, 'ro')\n",
    "plt.xlim([0.8,2.4]) \n",
    "plt.ylim([0,6])\n",
    "plt.show()"
   ]
  },
  {
   "cell_type": "markdown",
   "id": "43431a1c",
   "metadata": {},
   "source": [
    "######  Нестеров модель"
   ]
  },
  {
   "cell_type": "markdown",
   "id": "480f472f",
   "metadata": {},
   "source": [
    "Vt = gamma*Vt -1 + ng * J *theta\n",
    "\n",
    " theta = theta - Vt"
   ]
  },
  {
   "cell_type": "code",
   "execution_count": 32,
   "id": "4af7c09b",
   "metadata": {},
   "outputs": [],
   "source": [
    "gamma = 0.9\n",
    "Vt = 1 - gamma"
   ]
  },
  {
   "cell_type": "code",
   "execution_count": 33,
   "id": "4e08058d",
   "metadata": {},
   "outputs": [],
   "source": [
    "EPOCHS = 20\n",
    "ng = 0.0001\n",
    "J_cos = 0.05"
   ]
  },
  {
   "cell_type": "code",
   "execution_count": 34,
   "id": "5acdea83",
   "metadata": {},
   "outputs": [],
   "source": [
    "def cost_function(X, y, theta0, theta1):\n",
    "    total_cost = 0\n",
    "    for i in range(len(X)):\n",
    "        total_cost += gamma * Vt\n",
    "    return gamma * Vt -1 + ng* J_cos*theta1"
   ]
  },
  {
   "cell_type": "code",
   "execution_count": 35,
   "id": "0f2c1c0c",
   "metadata": {},
   "outputs": [],
   "source": [
    "def der_theta0(X, y, theta0, theta1):\n",
    "    total_cost = 0\n",
    "    for i in range(len(X)):\n",
    "        total_cost += (theta0 + theta1*X[i] - y[i])\n",
    "    return total_cost / (len(X))    "
   ]
  },
  {
   "cell_type": "code",
   "execution_count": 36,
   "id": "1d2b7224",
   "metadata": {},
   "outputs": [],
   "source": [
    "def der_theta1(X, y, theta0, theta1):\n",
    "    total_cost = 0\n",
    "    for i in range(len(X)):\n",
    "        total_cost += (theta0 + theta1*X[i] - y[i]) * X[i]\n",
    "    return total_cost / (len(X))  "
   ]
  },
  {
   "cell_type": "code",
   "execution_count": 37,
   "id": "87567f38",
   "metadata": {},
   "outputs": [
    {
     "name": "stdout",
     "output_type": "stream",
     "text": [
      "t0: 0.92 t1: 0.91 cost: -0.90999545\n",
      "t0: 0.8750000000000001 t1: 0.8200000000000001 cost: -0.9099959000000001\n",
      "t0: 0.8615000000000002 t1: 0.7300000000000001 cost: -0.90999635\n",
      "t0: 0.8763500000000001 t1: 0.6400000000000001 cost: -0.9099968\n",
      "t0: 0.9167150000000001 t1: 0.5500000000000002 cost: -0.90999725\n",
      "t0: 0.9800435000000001 t1: 0.4600000000000002 cost: -0.9099977\n",
      "t0: 1.06403915 t1: 0.3700000000000002 cost: -0.9099981500000001\n",
      "t0: 1.1666352349999998 t1: 0.28000000000000025 cost: -0.9099986\n",
      "t0: 1.2859717114999998 t1: 0.19000000000000028 cost: -0.90999905\n",
      "t0: 1.4203745403499997 t1: 0.1000000000000003 cost: -0.9099995000000001\n",
      "t0: 1.5683370863149997 t1: 0.010000000000000314 cost: -0.90999995\n",
      "t0: 1.7285033776834995 t1: -0.07999999999999967 cost: -0.9100004\n",
      "t0: 1.8996530399151494 t1: -0.16999999999999965 cost: -0.9100008500000001\n",
      "t0: 2.080687735923634 t1: -0.2599999999999996 cost: -0.9100013\n",
      "t0: 2.2706189623312705 t1: -0.3499999999999996 cost: -0.91000175\n",
      "t0: 2.4685570660981435 t1: -0.43999999999999956 cost: -0.9100022\n",
      "t0: 2.673701359488329 t1: -0.5299999999999996 cost: -0.91000265\n",
      "t0: 2.885331223539496 t1: -0.6199999999999996 cost: -0.9100031000000001\n",
      "t0: 3.102798101185546 t1: -0.7099999999999995 cost: -0.91000355\n",
      "t0: 3.325518291066991 t1: -0.7999999999999995 cost: -0.910004\n"
     ]
    }
   ],
   "source": [
    "theta0 = 1\n",
    "theta1 = 1\n",
    "for _ in range(EPOCHS):\n",
    "    dt0 = der_theta0(X[1], X[2] , theta0, theta1)\n",
    "    dt1 = der_theta1(X[1], X[2], theta0, theta1)\n",
    "    \n",
    "    theta0 = theta0 - Vt * dt0\n",
    "    theta1 -= Vt * gamma\n",
    "    \n",
    "    print(\"t0:\", theta0, \"t1:\", theta1, \"cost:\", cost_function(X[1], X[2], theta0, theta1))"
   ]
  },
  {
   "cell_type": "markdown",
   "id": "98baa194",
   "metadata": {},
   "source": [
    "######   Методом rmsprop"
   ]
  },
  {
   "cell_type": "markdown",
   "id": "7f8f1c2b",
   "metadata": {},
   "source": [
    "Vdw = Beta*Vdw + (1-Beta)*dw**2"
   ]
  },
  {
   "cell_type": "code",
   "execution_count": 38,
   "id": "6b19165e",
   "metadata": {},
   "outputs": [
    {
     "data": {
      "image/png": "[encoded data removed]",
      "text/plain": [
       "<Figure size 432x288 with 1 Axes>"
      ]
     },
     "metadata": {
      "needs_background": "light"
     },
     "output_type": "display_data"
    }
   ],
   "source": [
    "lr = 0.1\n",
    "points = [2]\n",
    "n_epochs = 15\n",
    "Beta = 0.9\n",
    "theta= 0.01\n",
    "\n",
    "for _ in range(n_epochs):\n",
    "    cur_point = points[-1]\n",
    "    grad = Beta*(cur_point*theta)\n",
    "    Vdw = Beta * grad + (1 - Beta)*0.2**2\n",
    "    points.append(Vdw)\n",
    "    \n",
    "y_points = [f(p) for p in points]\n",
    "\n",
    "plt.plot(X,f(X))\n",
    "plt.plot(points, y_points, 'ro')\n",
    "plt.xlim([0.8,2.6]) \n",
    "plt.ylim([0,6])\n",
    "plt.show()"
   ]
  },
  {
   "cell_type": "code",
   "execution_count": null,
   "id": "f0015e02",
   "metadata": {},
   "outputs": [],
   "source": []
  }
 ],
 "metadata": {
  "kernelspec": {
   "display_name": "Python 3",
   "language": "python",
   "name": "python3"
  },
  "language_info": {
   "codemirror_mode": {
    "name": "ipython",
    "version": 3
   },
   "file_extension": ".py",
   "mimetype": "text/x-python",
   "name": "python",
   "nbconvert_exporter": "python",
   "pygments_lexer": "ipython3",
   "version": "3.8.8"
  }
 },
 "nbformat": 4,
 "nbformat_minor": 5
}
